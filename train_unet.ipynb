{
 "cells": [
  {
   "cell_type": "code",
   "execution_count": 7,
   "outputs": [],
   "source": [
    "from Tools import *\n",
    "from U_net import *"
   ],
   "metadata": {
    "collapsed": false,
    "ExecuteTime": {
     "end_time": "2023-10-21T12:01:33.915879100Z",
     "start_time": "2023-10-21T12:01:33.915879100Z"
    }
   },
   "id": "b01fec0ab1dbd662"
  },
  {
   "cell_type": "code",
   "execution_count": 8,
   "outputs": [
    {
     "name": "stdout",
     "output_type": "stream",
     "text": [
      "read 624 examples\n",
      "read 59 examples\n",
      "read 30 examples\n"
     ]
    }
   ],
   "source": [
    "crop_size = (512, 512)\n",
    "# crop_size = (420, 600)\n",
    "train = GunsDataset(crop_size, 'train')\n",
    "val = GunsDataset(crop_size, 'valid')\n",
    "test = GunsDataset(crop_size, 'test')"
   ],
   "metadata": {
    "collapsed": false,
    "ExecuteTime": {
     "end_time": "2023-10-21T12:01:41.849344300Z",
     "start_time": "2023-10-21T12:01:34.681743200Z"
    }
   },
   "id": "cb4a116fb5e748f"
  },
  {
   "cell_type": "code",
   "execution_count": 9,
   "outputs": [],
   "source": [
    "batch_size = 8\n",
    "train_iter = torch.utils.data.DataLoader(train, batch_size, shuffle=True, num_workers=1)\n",
    "val_iter = torch.utils.data.DataLoader(val, batch_size, shuffle=False, num_workers=1)\n",
    "test_iter = torch.utils.data.DataLoader(test, batch_size, shuffle=False, num_workers=1)"
   ],
   "metadata": {
    "collapsed": false,
    "ExecuteTime": {
     "end_time": "2023-10-21T12:01:43.100486Z",
     "start_time": "2023-10-21T12:01:42.578942300Z"
    }
   },
   "id": "2efb4be54ce14b06"
  },
  {
   "cell_type": "code",
   "execution_count": 10,
   "outputs": [
    {
     "name": "stdout",
     "output_type": "stream",
     "text": [
      "torch.Size([8, 3, 512, 512])\n",
      "torch.Size([8, 512, 512])\n"
     ]
    }
   ],
   "source": [
    "for X, Y in train_iter:\n",
    "    print(X.shape)\n",
    "    print(Y.shape)\n",
    "    break"
   ],
   "metadata": {
    "collapsed": false,
    "ExecuteTime": {
     "end_time": "2023-10-21T12:01:53.887630600Z",
     "start_time": "2023-10-21T12:01:43.678726700Z"
    }
   },
   "id": "c5a8fd28d31efe96"
  },
  {
   "cell_type": "code",
   "execution_count": 11,
   "outputs": [
    {
     "name": "stderr",
     "output_type": "stream",
     "text": [
      "C:\\Users\\roirt\\AppData\\Local\\Programs\\Python\\Python311\\Lib\\site-packages\\torch\\nn\\modules\\lazy.py:180: UserWarning: Lazy modules are a new feature under heavy development so changes to the API or functionality can happen at any moment.\n",
      "  warnings.warn('Lazy modules are a new feature under heavy development '\n"
     ]
    },
    {
     "name": "stdout",
     "output_type": "stream",
     "text": [
      "----------------------------------------------------------------\n",
      "        Layer (type)               Output Shape         Param #\n",
      "================================================================\n",
      "            Conv2d-1         [-1, 64, 256, 256]           9,408\n",
      "       BatchNorm2d-2         [-1, 64, 256, 256]             128\n",
      "              ReLU-3         [-1, 64, 256, 256]               0\n",
      "         MaxPool2d-4         [-1, 64, 128, 128]               0\n",
      "            Conv2d-5         [-1, 64, 128, 128]          36,864\n",
      "       BatchNorm2d-6         [-1, 64, 128, 128]             128\n",
      "              ReLU-7         [-1, 64, 128, 128]               0\n",
      "            Conv2d-8         [-1, 64, 128, 128]          36,864\n",
      "       BatchNorm2d-9         [-1, 64, 128, 128]             128\n",
      "             ReLU-10         [-1, 64, 128, 128]               0\n",
      "       BasicBlock-11         [-1, 64, 128, 128]               0\n",
      "           Conv2d-12         [-1, 64, 128, 128]          36,864\n",
      "      BatchNorm2d-13         [-1, 64, 128, 128]             128\n",
      "             ReLU-14         [-1, 64, 128, 128]               0\n",
      "           Conv2d-15         [-1, 64, 128, 128]          36,864\n",
      "      BatchNorm2d-16         [-1, 64, 128, 128]             128\n",
      "             ReLU-17         [-1, 64, 128, 128]               0\n",
      "       BasicBlock-18         [-1, 64, 128, 128]               0\n",
      "           Conv2d-19          [-1, 128, 64, 64]          73,728\n",
      "      BatchNorm2d-20          [-1, 128, 64, 64]             256\n",
      "             ReLU-21          [-1, 128, 64, 64]               0\n",
      "           Conv2d-22          [-1, 128, 64, 64]         147,456\n",
      "      BatchNorm2d-23          [-1, 128, 64, 64]             256\n",
      "           Conv2d-24          [-1, 128, 64, 64]           8,192\n",
      "      BatchNorm2d-25          [-1, 128, 64, 64]             256\n",
      "             ReLU-26          [-1, 128, 64, 64]               0\n",
      "       BasicBlock-27          [-1, 128, 64, 64]               0\n",
      "           Conv2d-28          [-1, 128, 64, 64]         147,456\n",
      "      BatchNorm2d-29          [-1, 128, 64, 64]             256\n",
      "             ReLU-30          [-1, 128, 64, 64]               0\n",
      "           Conv2d-31          [-1, 128, 64, 64]         147,456\n",
      "      BatchNorm2d-32          [-1, 128, 64, 64]             256\n",
      "             ReLU-33          [-1, 128, 64, 64]               0\n",
      "       BasicBlock-34          [-1, 128, 64, 64]               0\n",
      "           Conv2d-35          [-1, 256, 32, 32]         294,912\n",
      "      BatchNorm2d-36          [-1, 256, 32, 32]             512\n",
      "             ReLU-37          [-1, 256, 32, 32]               0\n",
      "           Conv2d-38          [-1, 256, 32, 32]         589,824\n",
      "      BatchNorm2d-39          [-1, 256, 32, 32]             512\n",
      "           Conv2d-40          [-1, 256, 32, 32]          32,768\n",
      "      BatchNorm2d-41          [-1, 256, 32, 32]             512\n",
      "             ReLU-42          [-1, 256, 32, 32]               0\n",
      "       BasicBlock-43          [-1, 256, 32, 32]               0\n",
      "           Conv2d-44          [-1, 256, 32, 32]         589,824\n",
      "      BatchNorm2d-45          [-1, 256, 32, 32]             512\n",
      "             ReLU-46          [-1, 256, 32, 32]               0\n",
      "           Conv2d-47          [-1, 256, 32, 32]         589,824\n",
      "      BatchNorm2d-48          [-1, 256, 32, 32]             512\n",
      "             ReLU-49          [-1, 256, 32, 32]               0\n",
      "       BasicBlock-50          [-1, 256, 32, 32]               0\n",
      "           Conv2d-51          [-1, 512, 16, 16]       1,179,648\n",
      "      BatchNorm2d-52          [-1, 512, 16, 16]           1,024\n",
      "             ReLU-53          [-1, 512, 16, 16]               0\n",
      "           Conv2d-54          [-1, 512, 16, 16]       2,359,296\n",
      "      BatchNorm2d-55          [-1, 512, 16, 16]           1,024\n",
      "           Conv2d-56          [-1, 512, 16, 16]         131,072\n",
      "      BatchNorm2d-57          [-1, 512, 16, 16]           1,024\n",
      "             ReLU-58          [-1, 512, 16, 16]               0\n",
      "       BasicBlock-59          [-1, 512, 16, 16]               0\n",
      "           Conv2d-60          [-1, 512, 16, 16]       2,359,296\n",
      "      BatchNorm2d-61          [-1, 512, 16, 16]           1,024\n",
      "             ReLU-62          [-1, 512, 16, 16]               0\n",
      "           Conv2d-63          [-1, 512, 16, 16]       2,359,296\n",
      "      BatchNorm2d-64          [-1, 512, 16, 16]           1,024\n",
      "             ReLU-65          [-1, 512, 16, 16]               0\n",
      "       BasicBlock-66          [-1, 512, 16, 16]               0\n",
      "  ConvTranspose2d-67          [-1, 512, 16, 16]       2,359,296\n",
      "      BatchNorm2d-68          [-1, 512, 16, 16]           1,024\n",
      "           Conv2d-69          [-1, 512, 16, 16]       2,359,296\n",
      "      BatchNorm2d-70          [-1, 512, 16, 16]           1,024\n",
      "   TransposeBlock-71          [-1, 512, 16, 16]               0\n",
      "  ConvTranspose2d-72          [-1, 256, 32, 32]       1,179,648\n",
      "      BatchNorm2d-73          [-1, 256, 32, 32]             512\n",
      "           Conv2d-74          [-1, 256, 32, 32]         589,824\n",
      "      BatchNorm2d-75          [-1, 256, 32, 32]             512\n",
      "  ConvTranspose2d-76          [-1, 256, 32, 32]         131,072\n",
      "   TransposeBlock-77          [-1, 256, 32, 32]               0\n",
      "  ConvTranspose2d-78          [-1, 256, 32, 32]         589,824\n",
      "      BatchNorm2d-79          [-1, 256, 32, 32]             512\n",
      "           Conv2d-80          [-1, 256, 32, 32]         589,824\n",
      "      BatchNorm2d-81          [-1, 256, 32, 32]             512\n",
      "   TransposeBlock-82          [-1, 256, 32, 32]               0\n",
      "  ConvTranspose2d-83          [-1, 128, 64, 64]         294,912\n",
      "      BatchNorm2d-84          [-1, 128, 64, 64]             256\n",
      "           Conv2d-85          [-1, 128, 64, 64]         147,456\n",
      "      BatchNorm2d-86          [-1, 128, 64, 64]             256\n",
      "  ConvTranspose2d-87          [-1, 128, 64, 64]          32,768\n",
      "   TransposeBlock-88          [-1, 128, 64, 64]               0\n",
      "  ConvTranspose2d-89          [-1, 128, 64, 64]         147,456\n",
      "      BatchNorm2d-90          [-1, 128, 64, 64]             256\n",
      "           Conv2d-91          [-1, 128, 64, 64]         147,456\n",
      "      BatchNorm2d-92          [-1, 128, 64, 64]             256\n",
      "   TransposeBlock-93          [-1, 128, 64, 64]               0\n",
      "  ConvTranspose2d-94         [-1, 64, 128, 128]          73,728\n",
      "      BatchNorm2d-95         [-1, 64, 128, 128]             128\n",
      "           Conv2d-96         [-1, 64, 128, 128]          36,864\n",
      "      BatchNorm2d-97         [-1, 64, 128, 128]             128\n",
      "  ConvTranspose2d-98         [-1, 64, 128, 128]           8,192\n",
      "   TransposeBlock-99         [-1, 64, 128, 128]               0\n",
      " ConvTranspose2d-100         [-1, 64, 128, 128]          36,864\n",
      "     BatchNorm2d-101         [-1, 64, 128, 128]             128\n",
      "          Conv2d-102         [-1, 64, 128, 128]          36,864\n",
      "     BatchNorm2d-103         [-1, 64, 128, 128]             128\n",
      "  TransposeBlock-104         [-1, 64, 128, 128]               0\n",
      " ConvTranspose2d-105         [-1, 64, 128, 128]          36,864\n",
      "     BatchNorm2d-106         [-1, 64, 128, 128]             128\n",
      "          Conv2d-107         [-1, 64, 128, 128]          36,864\n",
      "     BatchNorm2d-108         [-1, 64, 128, 128]             128\n",
      "  TransposeBlock-109         [-1, 64, 128, 128]               0\n",
      " ConvTranspose2d-110          [-1, 2, 512, 512]           6,272\n",
      "          ResNet-111          [-1, 2, 512, 512]               0\n",
      "================================================================\n",
      "Total params: 20,023,744\n",
      "Trainable params: 20,023,744\n",
      "Non-trainable params: 0\n",
      "----------------------------------------------------------------\n",
      "Input size (MB): 3.00\n",
      "Forward/backward pass size (MB): 535.00\n",
      "Params size (MB): 76.38\n",
      "Estimated Total Size (MB): 614.38\n",
      "----------------------------------------------------------------\n",
      "None\n",
      "Input shape = (3, 512, 512)\n"
     ]
    }
   ],
   "source": [
    "net = create_unet()"
   ],
   "metadata": {
    "collapsed": false,
    "ExecuteTime": {
     "end_time": "2023-10-21T12:01:55.334582Z",
     "start_time": "2023-10-21T12:01:54.836827400Z"
    }
   },
   "id": "d1a6624f29f08c8d"
  },
  {
   "cell_type": "code",
   "execution_count": 12,
   "outputs": [],
   "source": [
    "def loss(inputs, targets):\n",
    "    return F.cross_entropy(inputs, targets, reduction='none').mean(1).mean(1)\n",
    "    \n",
    "def accuracy(y_hat, y):\n",
    "    \"\"\"Compute the number of correct predictions.\"\"\"\n",
    "    if len(y_hat.shape) > 1 and y_hat.shape[1] > 1:\n",
    "        y_hat = y_hat.argmax(axis=1)\n",
    "    cmp = y_hat.type(y.dtype) == y\n",
    "    return float(cmp.type(y.dtype).sum())\n",
    "\n",
    "def binnary_IoU(y_hat, y):\n",
    "    if len(y_hat.shape) > 1 and y_hat.shape[1] > 1:\n",
    "        y_hat = y_hat.argmax(axis=1)\n",
    "    intersection = float((y_hat.type(y.dtype) * y).sum())\n",
    "    union = float((y_hat.type(y.dtype) + y).clamp(0, 1).sum())\n",
    "    return intersection, union"
   ],
   "metadata": {
    "collapsed": false,
    "ExecuteTime": {
     "end_time": "2023-10-21T12:01:56.288702500Z",
     "start_time": "2023-10-21T12:01:56.263370800Z"
    }
   },
   "id": "e8c3f6ac7af28716"
  },
  {
   "cell_type": "code",
   "execution_count": 13,
   "outputs": [
    {
     "name": "stdout",
     "output_type": "stream",
     "text": [
      "epoch 1/100, loss 0.394399          , Train accuracy  0.865605, Train IoU  0.058251          , Val accuracy 0.898950, Val IoU 0.057716\n",
      "epoch 2/100, loss 0.340826          , Train accuracy  0.883451, Train IoU  0.075381          , Val accuracy 0.911727, Val IoU 0.091471\n",
      "epoch 3/100, loss 0.304974          , Train accuracy  0.893580, Train IoU  0.102780          , Val accuracy 0.918060, Val IoU 0.128115\n",
      "epoch 4/100, loss 0.281675          , Train accuracy  0.897785, Train IoU  0.148351          , Val accuracy 0.921419, Val IoU 0.172991\n",
      "epoch 5/100, loss 0.264479          , Train accuracy  0.902973, Train IoU  0.176777          , Val accuracy 0.924092, Val IoU 0.219631\n",
      "epoch 6/100, loss 0.248575          , Train accuracy  0.907369, Train IoU  0.216167          , Val accuracy 0.926919, Val IoU 0.249538\n",
      "epoch 7/100, loss 0.240564          , Train accuracy  0.911283, Train IoU  0.243287          , Val accuracy 0.931215, Val IoU 0.255430\n",
      "epoch 8/100, loss 0.228552          , Train accuracy  0.914692, Train IoU  0.273038          , Val accuracy 0.931729, Val IoU 0.277225\n",
      "epoch 9/100, loss 0.222901          , Train accuracy  0.916885, Train IoU  0.295675          , Val accuracy 0.933684, Val IoU 0.320610\n",
      "epoch 10/100, loss 0.218439          , Train accuracy  0.919526, Train IoU  0.312311          , Val accuracy 0.936777, Val IoU 0.317251\n",
      "epoch 11/100, loss 0.210277          , Train accuracy  0.923386, Train IoU  0.342354          , Val accuracy 0.936743, Val IoU 0.351943\n",
      "epoch 12/100, loss 0.207489          , Train accuracy  0.925017, Train IoU  0.358902          , Val accuracy 0.937081, Val IoU 0.352313\n",
      "epoch 13/100, loss 0.203553          , Train accuracy  0.926827, Train IoU  0.374394          , Val accuracy 0.937076, Val IoU 0.363764\n",
      "epoch 14/100, loss 0.197136          , Train accuracy  0.929432, Train IoU  0.394506          , Val accuracy 0.934846, Val IoU 0.367971\n",
      "epoch 15/100, loss 0.191313          , Train accuracy  0.931020, Train IoU  0.411668          , Val accuracy 0.941908, Val IoU 0.388191\n",
      "epoch 16/100, loss 0.194035          , Train accuracy  0.931020, Train IoU  0.408261          , Val accuracy 0.942697, Val IoU 0.391065\n",
      "epoch 17/100, loss 0.186679          , Train accuracy  0.933308, Train IoU  0.426099          , Val accuracy 0.941426, Val IoU 0.412726\n",
      "epoch 18/100, loss 0.185370          , Train accuracy  0.933709, Train IoU  0.437145          , Val accuracy 0.945361, Val IoU 0.438602\n",
      "epoch 19/100, loss 0.182219          , Train accuracy  0.934721, Train IoU  0.441041          , Val accuracy 0.947244, Val IoU 0.411078\n",
      "epoch 20/100, loss 0.178699          , Train accuracy  0.936091, Train IoU  0.441957          , Val accuracy 0.941715, Val IoU 0.408843\n",
      "epoch 21/100, loss 0.177699          , Train accuracy  0.936399, Train IoU  0.449247          , Val accuracy 0.945993, Val IoU 0.417745\n",
      "epoch 22/100, loss 0.171452          , Train accuracy  0.938979, Train IoU  0.468189          , Val accuracy 0.941456, Val IoU 0.424464\n",
      "epoch 23/100, loss 0.164503          , Train accuracy  0.941147, Train IoU  0.485462          , Val accuracy 0.938489, Val IoU 0.422712\n",
      "epoch 24/100, loss 0.164604          , Train accuracy  0.941299, Train IoU  0.485856          , Val accuracy 0.945022, Val IoU 0.429539\n",
      "epoch 25/100, loss 0.164123          , Train accuracy  0.941180, Train IoU  0.487341          , Val accuracy 0.941856, Val IoU 0.436957\n",
      "epoch 26/100, loss 0.162094          , Train accuracy  0.941807, Train IoU  0.485948          , Val accuracy 0.941090, Val IoU 0.428264\n",
      "epoch 27/100, loss 0.161334          , Train accuracy  0.942231, Train IoU  0.499215          , Val accuracy 0.945306, Val IoU 0.439754\n",
      "epoch 28/100, loss 0.158559          , Train accuracy  0.943285, Train IoU  0.503326          , Val accuracy 0.945167, Val IoU 0.438771\n",
      "epoch 29/100, loss 0.154055          , Train accuracy  0.944741, Train IoU  0.515749          , Val accuracy 0.943015, Val IoU 0.437573\n",
      "epoch 30/100, loss 0.157284          , Train accuracy  0.943676, Train IoU  0.509856          , Val accuracy 0.948996, Val IoU 0.452219\n",
      "epoch 31/100, loss 0.150361          , Train accuracy  0.945811, Train IoU  0.524794          , Val accuracy 0.942452, Val IoU 0.432701\n",
      "epoch 32/100, loss 0.151954          , Train accuracy  0.945580, Train IoU  0.523502          , Val accuracy 0.945728, Val IoU 0.449114\n",
      "epoch 33/100, loss 0.147807          , Train accuracy  0.946900, Train IoU  0.537578          , Val accuracy 0.945637, Val IoU 0.443691\n",
      "epoch 34/100, loss 0.145340          , Train accuracy  0.947821, Train IoU  0.545153          , Val accuracy 0.945739, Val IoU 0.449530\n",
      "epoch 35/100, loss 0.142340          , Train accuracy  0.949257, Train IoU  0.549806          , Val accuracy 0.946070, Val IoU 0.455409\n",
      "epoch 36/100, loss 0.147121          , Train accuracy  0.947448, Train IoU  0.537675          , Val accuracy 0.948536, Val IoU 0.461287\n",
      "epoch 37/100, loss 0.139972          , Train accuracy  0.949350, Train IoU  0.551602          , Val accuracy 0.945314, Val IoU 0.468476\n",
      "epoch 38/100, loss 0.141852          , Train accuracy  0.949069, Train IoU  0.551720          , Val accuracy 0.944804, Val IoU 0.456832\n",
      "epoch 39/100, loss 0.140928          , Train accuracy  0.949298, Train IoU  0.557128          , Val accuracy 0.949419, Val IoU 0.460940\n",
      "epoch 40/100, loss 0.136857          , Train accuracy  0.950411, Train IoU  0.558845          , Val accuracy 0.946430, Val IoU 0.450673\n",
      "epoch 41/100, loss 0.136530          , Train accuracy  0.950593, Train IoU  0.560315          , Val accuracy 0.947955, Val IoU 0.467543\n",
      "epoch 42/100, loss 0.134516          , Train accuracy  0.951365, Train IoU  0.569673          , Val accuracy 0.946481, Val IoU 0.457850\n",
      "epoch 43/100, loss 0.134992          , Train accuracy  0.950769, Train IoU  0.567667          , Val accuracy 0.944947, Val IoU 0.463151\n",
      "epoch 44/100, loss 0.128840          , Train accuracy  0.953398, Train IoU  0.585795          , Val accuracy 0.947196, Val IoU 0.464219\n",
      "epoch 45/100, loss 0.134774          , Train accuracy  0.951042, Train IoU  0.573516          , Val accuracy 0.944766, Val IoU 0.467912\n",
      "epoch 46/100, loss 0.130421          , Train accuracy  0.953027, Train IoU  0.581600          , Val accuracy 0.943890, Val IoU 0.471203\n",
      "epoch 47/100, loss 0.130036          , Train accuracy  0.952571, Train IoU  0.586560          , Val accuracy 0.948370, Val IoU 0.475525\n",
      "epoch 48/100, loss 0.129920          , Train accuracy  0.952982, Train IoU  0.584850          , Val accuracy 0.946853, Val IoU 0.471129\n",
      "epoch 49/100, loss 0.128302          , Train accuracy  0.953317, Train IoU  0.586231          , Val accuracy 0.944795, Val IoU 0.460716\n",
      "epoch 50/100, loss 0.124596          , Train accuracy  0.954987, Train IoU  0.597642          , Val accuracy 0.949113, Val IoU 0.480861\n",
      "epoch 51/100, loss 0.124465          , Train accuracy  0.954735, Train IoU  0.597752          , Val accuracy 0.947359, Val IoU 0.489517\n",
      "epoch 52/100, loss 0.122661          , Train accuracy  0.955685, Train IoU  0.604946          , Val accuracy 0.947494, Val IoU 0.482261\n",
      "epoch 53/100, loss 0.123849          , Train accuracy  0.955092, Train IoU  0.602410          , Val accuracy 0.948031, Val IoU 0.476463\n",
      "epoch 54/100, loss 0.122267          , Train accuracy  0.955555, Train IoU  0.606379          , Val accuracy 0.951459, Val IoU 0.483004\n",
      "epoch 55/100, loss 0.120526          , Train accuracy  0.956278, Train IoU  0.604021          , Val accuracy 0.949180, Val IoU 0.477920\n",
      "epoch 56/100, loss 0.121212          , Train accuracy  0.956100, Train IoU  0.607851          , Val accuracy 0.952675, Val IoU 0.494305\n",
      "epoch 57/100, loss 0.119352          , Train accuracy  0.956693, Train IoU  0.616862          , Val accuracy 0.950416, Val IoU 0.495897\n",
      "epoch 58/100, loss 0.117575          , Train accuracy  0.957160, Train IoU  0.619670          , Val accuracy 0.948553, Val IoU 0.496693\n",
      "epoch 59/100, loss 0.117311          , Train accuracy  0.956900, Train IoU  0.619482          , Val accuracy 0.947564, Val IoU 0.493109\n",
      "epoch 60/100, loss 0.116781          , Train accuracy  0.957531, Train IoU  0.618647          , Val accuracy 0.947551, Val IoU 0.479925\n",
      "epoch 61/100, loss 0.116422          , Train accuracy  0.957490, Train IoU  0.621137          , Val accuracy 0.946776, Val IoU 0.477776\n",
      "epoch 62/100, loss 0.112431          , Train accuracy  0.959251, Train IoU  0.638119          , Val accuracy 0.950576, Val IoU 0.486885\n",
      "epoch 63/100, loss 0.111922          , Train accuracy  0.959292, Train IoU  0.634529          , Val accuracy 0.948034, Val IoU 0.491169\n",
      "epoch 64/100, loss 0.116151          , Train accuracy  0.957599, Train IoU  0.625218          , Val accuracy 0.952311, Val IoU 0.495694\n",
      "epoch 65/100, loss 0.111722          , Train accuracy  0.959217, Train IoU  0.635029          , Val accuracy 0.952218, Val IoU 0.497085\n",
      "epoch 66/100, loss 0.110752          , Train accuracy  0.959297, Train IoU  0.632399          , Val accuracy 0.950150, Val IoU 0.496479\n",
      "epoch 67/100, loss 0.113756          , Train accuracy  0.958691, Train IoU  0.632001          , Val accuracy 0.951830, Val IoU 0.517105\n",
      "epoch 68/100, loss 0.111663          , Train accuracy  0.959181, Train IoU  0.639777          , Val accuracy 0.951200, Val IoU 0.496829\n",
      "epoch 69/100, loss 0.111037          , Train accuracy  0.959381, Train IoU  0.637894          , Val accuracy 0.949936, Val IoU 0.518310\n",
      "epoch 70/100, loss 0.109822          , Train accuracy  0.959542, Train IoU  0.642228          , Val accuracy 0.950389, Val IoU 0.513875\n",
      "epoch 71/100, loss 0.109406          , Train accuracy  0.959993, Train IoU  0.643861          , Val accuracy 0.951118, Val IoU 0.508614\n",
      "epoch 72/100, loss 0.108445          , Train accuracy  0.960375, Train IoU  0.643272          , Val accuracy 0.948515, Val IoU 0.492881\n",
      "epoch 73/100, loss 0.102977          , Train accuracy  0.962422, Train IoU  0.657642          , Val accuracy 0.950277, Val IoU 0.520167\n",
      "epoch 74/100, loss 0.107080          , Train accuracy  0.960868, Train IoU  0.646919          , Val accuracy 0.951941, Val IoU 0.510149\n",
      "epoch 75/100, loss 0.103574          , Train accuracy  0.962238, Train IoU  0.659298          , Val accuracy 0.951536, Val IoU 0.515129\n",
      "epoch 76/100, loss 0.106201          , Train accuracy  0.961516, Train IoU  0.654081          , Val accuracy 0.950571, Val IoU 0.498497\n",
      "epoch 77/100, loss 0.102919          , Train accuracy  0.962536, Train IoU  0.664513          , Val accuracy 0.955789, Val IoU 0.524724\n",
      "epoch 78/100, loss 0.104539          , Train accuracy  0.961802, Train IoU  0.655646          , Val accuracy 0.949429, Val IoU 0.511992\n",
      "epoch 79/100, loss 0.102928          , Train accuracy  0.962485, Train IoU  0.666881          , Val accuracy 0.953385, Val IoU 0.526010\n",
      "epoch 80/100, loss 0.103668          , Train accuracy  0.962088, Train IoU  0.656770          , Val accuracy 0.950456, Val IoU 0.505631\n",
      "epoch 81/100, loss 0.103973          , Train accuracy  0.961683, Train IoU  0.661591          , Val accuracy 0.953894, Val IoU 0.521403\n",
      "epoch 82/100, loss 0.101083          , Train accuracy  0.962798, Train IoU  0.665195          , Val accuracy 0.952431, Val IoU 0.517111\n",
      "epoch 83/100, loss 0.098357          , Train accuracy  0.964024, Train IoU  0.672413          , Val accuracy 0.952859, Val IoU 0.524618\n",
      "epoch 84/100, loss 0.100777          , Train accuracy  0.963547, Train IoU  0.670802          , Val accuracy 0.953362, Val IoU 0.523671\n",
      "epoch 85/100, loss 0.100004          , Train accuracy  0.963382, Train IoU  0.671009          , Val accuracy 0.950844, Val IoU 0.515454\n",
      "epoch 86/100, loss 0.100154          , Train accuracy  0.963460, Train IoU  0.673629          , Val accuracy 0.953488, Val IoU 0.519454\n",
      "epoch 87/100, loss 0.098001          , Train accuracy  0.964054, Train IoU  0.675987          , Val accuracy 0.955566, Val IoU 0.536749\n",
      "epoch 88/100, loss 0.099377          , Train accuracy  0.963890, Train IoU  0.677869          , Val accuracy 0.952277, Val IoU 0.519771\n",
      "epoch 89/100, loss 0.095829          , Train accuracy  0.964777, Train IoU  0.681977          , Val accuracy 0.952867, Val IoU 0.521853\n",
      "epoch 90/100, loss 0.096951          , Train accuracy  0.964207, Train IoU  0.677794          , Val accuracy 0.956410, Val IoU 0.540847\n",
      "epoch 91/100, loss 0.095538          , Train accuracy  0.965024, Train IoU  0.684522          , Val accuracy 0.955127, Val IoU 0.519174\n",
      "epoch 92/100, loss 0.097564          , Train accuracy  0.964560, Train IoU  0.679022          , Val accuracy 0.954472, Val IoU 0.538041\n",
      "epoch 93/100, loss 0.093326          , Train accuracy  0.965600, Train IoU  0.687003          , Val accuracy 0.952956, Val IoU 0.526261\n",
      "epoch 94/100, loss 0.096505          , Train accuracy  0.964501, Train IoU  0.679151          , Val accuracy 0.954123, Val IoU 0.526256\n",
      "epoch 95/100, loss 0.095556          , Train accuracy  0.965026, Train IoU  0.682530          , Val accuracy 0.954145, Val IoU 0.531664\n",
      "epoch 96/100, loss 0.095133          , Train accuracy  0.965237, Train IoU  0.690617          , Val accuracy 0.956476, Val IoU 0.553957\n",
      "epoch 97/100, loss 0.093698          , Train accuracy  0.965458, Train IoU  0.690479          , Val accuracy 0.953546, Val IoU 0.529448\n",
      "epoch 98/100, loss 0.094412          , Train accuracy  0.965561, Train IoU  0.688988          , Val accuracy 0.955219, Val IoU 0.542578\n",
      "epoch 99/100, loss 0.092156          , Train accuracy  0.966296, Train IoU  0.696205          , Val accuracy 0.953897, Val IoU 0.538085\n",
      "epoch 100/100, loss 0.092020          , Train accuracy  0.966413, Train IoU  0.692358          , Val accuracy 0.956594, Val IoU 0.557931\n"
     ]
    }
   ],
   "source": [
    "num_epochs, lr, wd, device = 100, 0.005, 1e-3, torch.device('cuda' if torch.cuda.is_available() else 'cpu')\n",
    "trainer = torch.optim.SGD(net.parameters(), lr=lr)#, weight_decay=wd)\n",
    "model = net.to(device)\n",
    "\n",
    "for epoch in range(num_epochs):\n",
    "    L = 0.0\n",
    "    N = 0\n",
    "    Acc = 0.0\n",
    "    Acc_N = 0\n",
    "    ValAcc = 0.0\n",
    "    ValN = 0.0\n",
    "    Union = 0.0\n",
    "    Intersection = 0.0\n",
    "    ValUnion = 0.0\n",
    "    ValIntersection = 0.0\n",
    "    for X, y in train_iter:\n",
    "        X, y = X.to(device), y.to(device)\n",
    "        l = loss(model(X),y)\n",
    "        trainer.zero_grad()\n",
    "        l.mean().backward()\n",
    "        trainer.step()\n",
    "        L += l.sum()\n",
    "        N += l.numel()\n",
    "        Acc += accuracy(model(X), y)\n",
    "        IoU = binnary_IoU(model(X), y)\n",
    "        Intersection += IoU[0]\n",
    "        Union += IoU[1]\n",
    "        Acc_N += y.numel()\n",
    "    for X, y in val_iter:\n",
    "        X, y = X.to(device), y.to(device)\n",
    "        ValN += y.numel()\n",
    "        ValAcc += accuracy(model(X), y)\n",
    "        IoU = binnary_IoU(model(X), y)\n",
    "        ValIntersection += IoU[0]\n",
    "        ValUnion += IoU[1]\n",
    "    print(f'epoch {epoch + 1}/{num_epochs}, loss {(L/N):f}\\\n",
    "          , Train accuracy  {(Acc/Acc_N):f}, Train IoU  {(Intersection/Union):f}\\\n",
    "          , Val accuracy {(ValAcc/ValN):f}, Val IoU {(ValIntersection/ValUnion):f}')"
   ],
   "metadata": {
    "collapsed": false,
    "ExecuteTime": {
     "end_time": "2023-10-21T14:37:57.112331800Z",
     "start_time": "2023-10-21T12:01:58.548805600Z"
    }
   },
   "id": "9114212d707940b6"
  },
  {
   "cell_type": "code",
   "execution_count": 14,
   "outputs": [
    {
     "name": "stdout",
     "output_type": "stream",
     "text": [
      "0.5011350482870618\n"
     ]
    }
   ],
   "source": [
    "Union=0.0\n",
    "Intersection=0.0\n",
    "for X, y in test_iter:\n",
    "    X, y = X.to(device), y.to(device)\n",
    "    IoU = binnary_IoU(model(X), y)\n",
    "    Intersection += IoU[0]\n",
    "    Union += IoU[1]\n",
    "print(Intersection/Union)\n",
    "# next_batch = next(iter(test_iter))\n",
    "# X, y = next_batch"
   ],
   "metadata": {
    "collapsed": false,
    "ExecuteTime": {
     "end_time": "2023-10-21T14:38:06.434701300Z",
     "start_time": "2023-10-21T14:38:00.867037300Z"
    }
   },
   "id": "f5756ec9e79fe7ee"
  },
  {
   "cell_type": "code",
   "execution_count": 15,
   "outputs": [],
   "source": [
    "torch.save(model.to('cpu').state_dict(), 'modelo.pt')"
   ],
   "metadata": {
    "collapsed": false,
    "ExecuteTime": {
     "end_time": "2023-10-21T14:46:50.567315300Z",
     "start_time": "2023-10-21T14:46:50.366735100Z"
    }
   },
   "id": "a830d5fc1bd9acbd"
  },
  {
   "cell_type": "code",
   "execution_count": null,
   "outputs": [],
   "source": [
    "j=6\n",
    "a=X[j].unsqueeze(0)\n",
    "model=model.to('cpu')\n",
    "pred = model(a).argmax(dim=1)"
   ],
   "metadata": {
    "collapsed": false
   },
   "id": "a9bcf334ca2233c4"
  },
  {
   "cell_type": "code",
   "execution_count": null,
   "outputs": [],
   "source": [
    "plt.imshow(pred.permute(1, 2, 0).numpy())\n",
    "plt.axis('off')  # Opcional: desactiva los ejes\n",
    "plt.show()"
   ],
   "metadata": {
    "collapsed": false
   },
   "id": "f4e64e4d7afb1bb9"
  },
  {
   "cell_type": "code",
   "execution_count": null,
   "outputs": [],
   "source": [
    "plt.imshow((y[j].unsqueeze(0).to('cpu')).permute(1, 2, 0).numpy())\n",
    "plt.axis('off')  # Opcional: desactiva los ejes\n",
    "plt.show()"
   ],
   "metadata": {
    "collapsed": false
   },
   "id": "1031985cbf541dfd"
  },
  {
   "cell_type": "code",
   "execution_count": null,
   "outputs": [],
   "source": [],
   "metadata": {
    "collapsed": false
   },
   "id": "72dcb2535f39eccd"
  }
 ],
 "metadata": {
  "kernelspec": {
   "display_name": "Python 3",
   "language": "python",
   "name": "python3"
  },
  "language_info": {
   "codemirror_mode": {
    "name": "ipython",
    "version": 2
   },
   "file_extension": ".py",
   "mimetype": "text/x-python",
   "name": "python",
   "nbconvert_exporter": "python",
   "pygments_lexer": "ipython2",
   "version": "2.7.6"
  }
 },
 "nbformat": 4,
 "nbformat_minor": 5
}
