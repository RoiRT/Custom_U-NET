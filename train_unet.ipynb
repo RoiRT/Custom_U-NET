{
 "cells": [
  {
   "cell_type": "code",
   "execution_count": 1,
   "outputs": [],
   "source": [
    "from Tools import *\n",
    "from U_net import *"
   ],
   "metadata": {
    "collapsed": false,
    "ExecuteTime": {
     "end_time": "2023-10-20T12:31:15.124093900Z",
     "start_time": "2023-10-20T12:31:05.028906400Z"
    }
   },
   "id": "b01fec0ab1dbd662"
  },
  {
   "cell_type": "code",
   "execution_count": 2,
   "outputs": [
    {
     "name": "stdout",
     "output_type": "stream",
     "text": [
      "read 624 examples\n",
      "read 59 examples\n",
      "read 30 examples\n"
     ]
    }
   ],
   "source": [
    "crop_size = (512, 512)\n",
    "# crop_size = (420, 600)\n",
    "train = GunsDataset(crop_size, 'train')\n",
    "val = GunsDataset(crop_size, 'valid')\n",
    "test = GunsDataset(crop_size, 'test')"
   ],
   "metadata": {
    "collapsed": false,
    "ExecuteTime": {
     "end_time": "2023-10-20T12:31:22.003071500Z",
     "start_time": "2023-10-20T12:31:15.124093900Z"
    }
   },
   "id": "cb4a116fb5e748f"
  },
  {
   "cell_type": "code",
   "execution_count": 3,
   "outputs": [],
   "source": [
    "batch_size = 8\n",
    "train_iter = torch.utils.data.DataLoader(train, batch_size, shuffle=True, num_workers=1)\n",
    "val_iter = torch.utils.data.DataLoader(val, batch_size, shuffle=False, num_workers=1)\n",
    "test_iter = torch.utils.data.DataLoader(test, batch_size, shuffle=False, num_workers=1)"
   ],
   "metadata": {
    "collapsed": false,
    "ExecuteTime": {
     "end_time": "2023-10-20T12:31:22.006304500Z",
     "start_time": "2023-10-20T12:31:21.999181Z"
    }
   },
   "id": "2efb4be54ce14b06"
  },
  {
   "cell_type": "code",
   "execution_count": 4,
   "outputs": [
    {
     "name": "stdout",
     "output_type": "stream",
     "text": [
      "torch.Size([8, 3, 512, 512])\n",
      "torch.Size([8, 512, 512])\n"
     ]
    }
   ],
   "source": [
    "for X, Y in train_iter:\n",
    "    print(X.shape)\n",
    "    print(Y.shape)\n",
    "    break"
   ],
   "metadata": {
    "collapsed": false,
    "ExecuteTime": {
     "end_time": "2023-10-20T12:31:29.813742700Z",
     "start_time": "2023-10-20T12:31:22.006304500Z"
    }
   },
   "id": "c5a8fd28d31efe96"
  },
  {
   "cell_type": "code",
   "execution_count": 5,
   "outputs": [
    {
     "name": "stderr",
     "output_type": "stream",
     "text": [
      "C:\\Users\\roirt\\AppData\\Local\\Programs\\Python\\Python311\\Lib\\site-packages\\torch\\nn\\modules\\lazy.py:180: UserWarning: Lazy modules are a new feature under heavy development so changes to the API or functionality can happen at any moment.\n",
      "  warnings.warn('Lazy modules are a new feature under heavy development '\n"
     ]
    },
    {
     "name": "stdout",
     "output_type": "stream",
     "text": [
      "----------------------------------------------------------------\n",
      "        Layer (type)               Output Shape         Param #\n",
      "================================================================\n",
      "            Conv2d-1         [-1, 64, 256, 256]           9,408\n",
      "       BatchNorm2d-2         [-1, 64, 256, 256]             128\n",
      "              ReLU-3         [-1, 64, 256, 256]               0\n",
      "         MaxPool2d-4         [-1, 64, 128, 128]               0\n",
      "            Conv2d-5         [-1, 64, 128, 128]          36,864\n",
      "       BatchNorm2d-6         [-1, 64, 128, 128]             128\n",
      "              ReLU-7         [-1, 64, 128, 128]               0\n",
      "            Conv2d-8         [-1, 64, 128, 128]          36,864\n",
      "       BatchNorm2d-9         [-1, 64, 128, 128]             128\n",
      "             ReLU-10         [-1, 64, 128, 128]               0\n",
      "       BasicBlock-11         [-1, 64, 128, 128]               0\n",
      "           Conv2d-12         [-1, 64, 128, 128]          36,864\n",
      "      BatchNorm2d-13         [-1, 64, 128, 128]             128\n",
      "             ReLU-14         [-1, 64, 128, 128]               0\n",
      "           Conv2d-15         [-1, 64, 128, 128]          36,864\n",
      "      BatchNorm2d-16         [-1, 64, 128, 128]             128\n",
      "             ReLU-17         [-1, 64, 128, 128]               0\n",
      "       BasicBlock-18         [-1, 64, 128, 128]               0\n",
      "           Conv2d-19          [-1, 128, 64, 64]          73,728\n",
      "      BatchNorm2d-20          [-1, 128, 64, 64]             256\n",
      "             ReLU-21          [-1, 128, 64, 64]               0\n",
      "           Conv2d-22          [-1, 128, 64, 64]         147,456\n",
      "      BatchNorm2d-23          [-1, 128, 64, 64]             256\n",
      "           Conv2d-24          [-1, 128, 64, 64]           8,192\n",
      "      BatchNorm2d-25          [-1, 128, 64, 64]             256\n",
      "             ReLU-26          [-1, 128, 64, 64]               0\n",
      "       BasicBlock-27          [-1, 128, 64, 64]               0\n",
      "           Conv2d-28          [-1, 128, 64, 64]         147,456\n",
      "      BatchNorm2d-29          [-1, 128, 64, 64]             256\n",
      "             ReLU-30          [-1, 128, 64, 64]               0\n",
      "           Conv2d-31          [-1, 128, 64, 64]         147,456\n",
      "      BatchNorm2d-32          [-1, 128, 64, 64]             256\n",
      "             ReLU-33          [-1, 128, 64, 64]               0\n",
      "       BasicBlock-34          [-1, 128, 64, 64]               0\n",
      "           Conv2d-35          [-1, 256, 32, 32]         294,912\n",
      "      BatchNorm2d-36          [-1, 256, 32, 32]             512\n",
      "             ReLU-37          [-1, 256, 32, 32]               0\n",
      "           Conv2d-38          [-1, 256, 32, 32]         589,824\n",
      "      BatchNorm2d-39          [-1, 256, 32, 32]             512\n",
      "           Conv2d-40          [-1, 256, 32, 32]          32,768\n",
      "      BatchNorm2d-41          [-1, 256, 32, 32]             512\n",
      "             ReLU-42          [-1, 256, 32, 32]               0\n",
      "       BasicBlock-43          [-1, 256, 32, 32]               0\n",
      "           Conv2d-44          [-1, 256, 32, 32]         589,824\n",
      "      BatchNorm2d-45          [-1, 256, 32, 32]             512\n",
      "             ReLU-46          [-1, 256, 32, 32]               0\n",
      "           Conv2d-47          [-1, 256, 32, 32]         589,824\n",
      "      BatchNorm2d-48          [-1, 256, 32, 32]             512\n",
      "             ReLU-49          [-1, 256, 32, 32]               0\n",
      "       BasicBlock-50          [-1, 256, 32, 32]               0\n",
      "           Conv2d-51          [-1, 512, 16, 16]       1,179,648\n",
      "      BatchNorm2d-52          [-1, 512, 16, 16]           1,024\n",
      "             ReLU-53          [-1, 512, 16, 16]               0\n",
      "           Conv2d-54          [-1, 512, 16, 16]       2,359,296\n",
      "      BatchNorm2d-55          [-1, 512, 16, 16]           1,024\n",
      "           Conv2d-56          [-1, 512, 16, 16]         131,072\n",
      "      BatchNorm2d-57          [-1, 512, 16, 16]           1,024\n",
      "             ReLU-58          [-1, 512, 16, 16]               0\n",
      "       BasicBlock-59          [-1, 512, 16, 16]               0\n",
      "           Conv2d-60          [-1, 512, 16, 16]       2,359,296\n",
      "      BatchNorm2d-61          [-1, 512, 16, 16]           1,024\n",
      "             ReLU-62          [-1, 512, 16, 16]               0\n",
      "           Conv2d-63          [-1, 512, 16, 16]       2,359,296\n",
      "      BatchNorm2d-64          [-1, 512, 16, 16]           1,024\n",
      "             ReLU-65          [-1, 512, 16, 16]               0\n",
      "       BasicBlock-66          [-1, 512, 16, 16]               0\n",
      "  ConvTranspose2d-67          [-1, 512, 16, 16]       2,359,296\n",
      "      BatchNorm2d-68          [-1, 512, 16, 16]           1,024\n",
      "           Conv2d-69          [-1, 512, 16, 16]       2,359,296\n",
      "      BatchNorm2d-70          [-1, 512, 16, 16]           1,024\n",
      "   TransposeBlock-71          [-1, 512, 16, 16]               0\n",
      "  ConvTranspose2d-72          [-1, 256, 32, 32]       1,179,648\n",
      "      BatchNorm2d-73          [-1, 256, 32, 32]             512\n",
      "           Conv2d-74          [-1, 256, 32, 32]         589,824\n",
      "      BatchNorm2d-75          [-1, 256, 32, 32]             512\n",
      "  ConvTranspose2d-76          [-1, 256, 32, 32]         131,072\n",
      "   TransposeBlock-77          [-1, 256, 32, 32]               0\n",
      "  ConvTranspose2d-78          [-1, 256, 32, 32]         589,824\n",
      "      BatchNorm2d-79          [-1, 256, 32, 32]             512\n",
      "           Conv2d-80          [-1, 256, 32, 32]         589,824\n",
      "      BatchNorm2d-81          [-1, 256, 32, 32]             512\n",
      "   TransposeBlock-82          [-1, 256, 32, 32]               0\n",
      "  ConvTranspose2d-83          [-1, 128, 64, 64]         294,912\n",
      "      BatchNorm2d-84          [-1, 128, 64, 64]             256\n",
      "           Conv2d-85          [-1, 128, 64, 64]         147,456\n",
      "      BatchNorm2d-86          [-1, 128, 64, 64]             256\n",
      "  ConvTranspose2d-87          [-1, 128, 64, 64]          32,768\n",
      "   TransposeBlock-88          [-1, 128, 64, 64]               0\n",
      "  ConvTranspose2d-89          [-1, 128, 64, 64]         147,456\n",
      "      BatchNorm2d-90          [-1, 128, 64, 64]             256\n",
      "           Conv2d-91          [-1, 128, 64, 64]         147,456\n",
      "      BatchNorm2d-92          [-1, 128, 64, 64]             256\n",
      "   TransposeBlock-93          [-1, 128, 64, 64]               0\n",
      "  ConvTranspose2d-94         [-1, 64, 128, 128]          73,728\n",
      "      BatchNorm2d-95         [-1, 64, 128, 128]             128\n",
      "           Conv2d-96         [-1, 64, 128, 128]          36,864\n",
      "      BatchNorm2d-97         [-1, 64, 128, 128]             128\n",
      "  ConvTranspose2d-98         [-1, 64, 128, 128]           8,192\n",
      "   TransposeBlock-99         [-1, 64, 128, 128]               0\n",
      " ConvTranspose2d-100         [-1, 64, 128, 128]          36,864\n",
      "     BatchNorm2d-101         [-1, 64, 128, 128]             128\n",
      "          Conv2d-102         [-1, 64, 128, 128]          36,864\n",
      "     BatchNorm2d-103         [-1, 64, 128, 128]             128\n",
      "  TransposeBlock-104         [-1, 64, 128, 128]               0\n",
      " ConvTranspose2d-105         [-1, 64, 128, 128]          36,864\n",
      "     BatchNorm2d-106         [-1, 64, 128, 128]             128\n",
      "          Conv2d-107         [-1, 64, 128, 128]          36,864\n",
      "     BatchNorm2d-108         [-1, 64, 128, 128]             128\n",
      "  TransposeBlock-109         [-1, 64, 128, 128]               0\n",
      " ConvTranspose2d-110          [-1, 2, 512, 512]           6,272\n",
      "          ResNet-111          [-1, 2, 512, 512]               0\n",
      "================================================================\n",
      "Total params: 20,023,744\n",
      "Trainable params: 20,023,744\n",
      "Non-trainable params: 0\n",
      "----------------------------------------------------------------\n",
      "Input size (MB): 3.00\n",
      "Forward/backward pass size (MB): 535.00\n",
      "Params size (MB): 76.38\n",
      "Estimated Total Size (MB): 614.38\n",
      "----------------------------------------------------------------\n",
      "None\n",
      "Input shape = (3, 512, 512)\n"
     ]
    }
   ],
   "source": [
    "net = create_unet()"
   ],
   "metadata": {
    "collapsed": false,
    "ExecuteTime": {
     "end_time": "2023-10-20T12:31:30.550422300Z",
     "start_time": "2023-10-20T12:31:29.813742700Z"
    }
   },
   "id": "d1a6624f29f08c8d"
  },
  {
   "cell_type": "code",
   "execution_count": 6,
   "outputs": [],
   "source": [
    "def loss(inputs, targets):\n",
    "    return F.cross_entropy(inputs, targets, reduction='none').mean(1).mean(1)\n",
    "    \n",
    "def accuracy(y_hat, y):\n",
    "    \"\"\"Compute the number of correct predictions.\"\"\"\n",
    "    if len(y_hat.shape) > 1 and y_hat.shape[1] > 1:\n",
    "        y_hat = y_hat.argmax(axis=1)\n",
    "    cmp = y_hat.type(y.dtype) == y\n",
    "    return float(cmp.type(y.dtype).sum())\n",
    "\n",
    "def binnary_IoU(y_hat, y):\n",
    "    if len(y_hat.shape) > 1 and y_hat.shape[1] > 1:\n",
    "        y_hat = y_hat.argmax(axis=1)\n",
    "    intersection = float((y_hat.type(y.dtype) * y).sum())\n",
    "    union = float((y_hat.type(y.dtype) + y).clamp(0, 1).sum())\n",
    "    return intersection, union"
   ],
   "metadata": {
    "collapsed": false,
    "ExecuteTime": {
     "end_time": "2023-10-20T12:31:30.559515300Z",
     "start_time": "2023-10-20T12:31:30.550422300Z"
    }
   },
   "id": "e8c3f6ac7af28716"
  },
  {
   "cell_type": "code",
   "execution_count": 7,
   "outputs": [
    {
     "name": "stdout",
     "output_type": "stream",
     "text": [
      "epoch 1, loss 0.420222          , train accuracy  0.863855, train IoU  0.038923          , test accuracy 0.902182, test IoU 0.025546\n",
      "epoch 2, loss 0.389943          , train accuracy  0.881518, train IoU  0.027744          , test accuracy 0.913886, test IoU 0.022914\n",
      "epoch 3, loss 0.370432          , train accuracy  0.890010, train IoU  0.024073          , test accuracy 0.918027, test IoU 0.023188\n",
      "epoch 4, loss 0.358461          , train accuracy  0.894150, train IoU  0.023108          , test accuracy 0.919575, test IoU 0.023523\n",
      "epoch 5, loss 0.352001          , train accuracy  0.894284, train IoU  0.028387          , test accuracy 0.921865, test IoU 0.029209\n",
      "epoch 6, loss 0.339221          , train accuracy  0.896373, train IoU  0.037177          , test accuracy 0.922987, test IoU 0.048587\n",
      "epoch 7, loss 0.331958          , train accuracy  0.896659, train IoU  0.045569          , test accuracy 0.923163, test IoU 0.063781\n",
      "epoch 8, loss 0.318491          , train accuracy  0.898781, train IoU  0.062203          , test accuracy 0.923949, test IoU 0.071067\n",
      "epoch 9, loss 0.310717          , train accuracy  0.899861, train IoU  0.068835          , test accuracy 0.923336, test IoU 0.078491\n",
      "epoch 10, loss 0.305050          , train accuracy  0.900348, train IoU  0.083417          , test accuracy 0.920312, test IoU 0.099761\n",
      "epoch 11, loss 0.297674          , train accuracy  0.901450, train IoU  0.096358          , test accuracy 0.923492, test IoU 0.106416\n",
      "epoch 12, loss 0.295312          , train accuracy  0.902187, train IoU  0.105018          , test accuracy 0.924516, test IoU 0.131891\n",
      "epoch 13, loss 0.285068          , train accuracy  0.903916, train IoU  0.125157          , test accuracy 0.921764, test IoU 0.139884\n",
      "epoch 14, loss 0.278868          , train accuracy  0.905181, train IoU  0.145762          , test accuracy 0.924686, test IoU 0.147466\n",
      "epoch 15, loss 0.276180          , train accuracy  0.906078, train IoU  0.161156          , test accuracy 0.926265, test IoU 0.123751\n",
      "epoch 16, loss 0.269879          , train accuracy  0.908514, train IoU  0.167869          , test accuracy 0.926578, test IoU 0.182333\n",
      "epoch 17, loss 0.265077          , train accuracy  0.909253, train IoU  0.179022          , test accuracy 0.928263, test IoU 0.178308\n",
      "epoch 18, loss 0.259495          , train accuracy  0.911610, train IoU  0.201367          , test accuracy 0.928471, test IoU 0.200330\n",
      "epoch 19, loss 0.254835          , train accuracy  0.912958, train IoU  0.212162          , test accuracy 0.927186, test IoU 0.197312\n",
      "epoch 20, loss 0.254110          , train accuracy  0.913310, train IoU  0.221427          , test accuracy 0.929845, test IoU 0.240576\n",
      "epoch 21, loss 0.248782          , train accuracy  0.915488, train IoU  0.232922          , test accuracy 0.931455, test IoU 0.232001\n",
      "epoch 22, loss 0.248087          , train accuracy  0.915732, train IoU  0.240301          , test accuracy 0.927884, test IoU 0.252781\n",
      "epoch 23, loss 0.244669          , train accuracy  0.915971, train IoU  0.258948          , test accuracy 0.927875, test IoU 0.233085\n",
      "epoch 24, loss 0.239554          , train accuracy  0.919001, train IoU  0.272400          , test accuracy 0.931310, test IoU 0.251755\n",
      "epoch 25, loss 0.239543          , train accuracy  0.918203, train IoU  0.272807          , test accuracy 0.935868, test IoU 0.271279\n",
      "epoch 26, loss 0.232481          , train accuracy  0.920919, train IoU  0.295862          , test accuracy 0.931870, test IoU 0.285706\n",
      "epoch 27, loss 0.232964          , train accuracy  0.920241, train IoU  0.294576          , test accuracy 0.930877, test IoU 0.283525\n",
      "epoch 28, loss 0.226915          , train accuracy  0.922947, train IoU  0.311553          , test accuracy 0.930232, test IoU 0.279405\n",
      "epoch 29, loss 0.227348          , train accuracy  0.922580, train IoU  0.317090          , test accuracy 0.935835, test IoU 0.284451\n",
      "epoch 30, loss 0.223617          , train accuracy  0.924542, train IoU  0.322156          , test accuracy 0.932591, test IoU 0.282309\n",
      "epoch 31, loss 0.219826          , train accuracy  0.924343, train IoU  0.327467          , test accuracy 0.936350, test IoU 0.307661\n",
      "epoch 32, loss 0.220736          , train accuracy  0.924788, train IoU  0.335425          , test accuracy 0.929958, test IoU 0.298885\n",
      "epoch 33, loss 0.216760          , train accuracy  0.925899, train IoU  0.346594          , test accuracy 0.932869, test IoU 0.291081\n",
      "epoch 34, loss 0.212277          , train accuracy  0.927940, train IoU  0.359755          , test accuracy 0.933858, test IoU 0.286506\n",
      "epoch 35, loss 0.211111          , train accuracy  0.928449, train IoU  0.357936          , test accuracy 0.931072, test IoU 0.313320\n",
      "epoch 36, loss 0.210754          , train accuracy  0.927862, train IoU  0.363222          , test accuracy 0.931375, test IoU 0.304467\n",
      "epoch 37, loss 0.203295          , train accuracy  0.930698, train IoU  0.381373          , test accuracy 0.931821, test IoU 0.306721\n",
      "epoch 38, loss 0.201795          , train accuracy  0.931004, train IoU  0.384146          , test accuracy 0.934427, test IoU 0.326894\n",
      "epoch 39, loss 0.201590          , train accuracy  0.930521, train IoU  0.386577          , test accuracy 0.930390, test IoU 0.314957\n",
      "epoch 40, loss 0.199398          , train accuracy  0.931917, train IoU  0.395408          , test accuracy 0.936133, test IoU 0.332520\n",
      "epoch 41, loss 0.201030          , train accuracy  0.931069, train IoU  0.383178          , test accuracy 0.929883, test IoU 0.328905\n",
      "epoch 42, loss 0.195491          , train accuracy  0.933375, train IoU  0.410951          , test accuracy 0.934287, test IoU 0.346066\n",
      "epoch 43, loss 0.192450          , train accuracy  0.934328, train IoU  0.413190          , test accuracy 0.935029, test IoU 0.345441\n",
      "epoch 44, loss 0.192085          , train accuracy  0.934155, train IoU  0.410343          , test accuracy 0.934972, test IoU 0.343398\n",
      "epoch 45, loss 0.191182          , train accuracy  0.934145, train IoU  0.414405          , test accuracy 0.933074, test IoU 0.341593\n",
      "epoch 46, loss 0.190001          , train accuracy  0.934682, train IoU  0.427234          , test accuracy 0.934403, test IoU 0.349392\n",
      "epoch 47, loss 0.186122          , train accuracy  0.936485, train IoU  0.438235          , test accuracy 0.935792, test IoU 0.351398\n",
      "epoch 48, loss 0.186614          , train accuracy  0.935419, train IoU  0.429401          , test accuracy 0.935403, test IoU 0.356638\n",
      "epoch 49, loss 0.183219          , train accuracy  0.936856, train IoU  0.442765          , test accuracy 0.938610, test IoU 0.356826\n",
      "epoch 50, loss 0.181136          , train accuracy  0.936645, train IoU  0.439432          , test accuracy 0.933896, test IoU 0.356607\n"
     ]
    }
   ],
   "source": [
    "num_epochs, lr, wd, device = 50, 0.003, 1e-3, torch.device('cuda' if torch.cuda.is_available() else 'cpu')\n",
    "trainer = torch.optim.SGD(net.parameters(), lr=lr, weight_decay=wd)\n",
    "model = net.to(device)\n",
    "\n",
    "for epoch in range(num_epochs):\n",
    "    L = 0.0\n",
    "    N = 0\n",
    "    Acc = 0.0\n",
    "    Acc_N = 0\n",
    "    TestAcc = 0.0\n",
    "    TestN = 0.0\n",
    "    Union = 0.0\n",
    "    Intersection = 0.0\n",
    "    TestUnion = 0.0\n",
    "    TestIntersection = 0.0\n",
    "    for X, y in train_iter:\n",
    "        X, y = X.to(device), y.to(device)\n",
    "        l = loss(model(X),y)\n",
    "        trainer.zero_grad()\n",
    "        l.mean().backward()\n",
    "        trainer.step()\n",
    "        L += l.sum()\n",
    "        N += l.numel()\n",
    "        Acc += accuracy(model(X), y)\n",
    "        IoU = binnary_IoU(model(X), y)\n",
    "        Intersection += IoU[0]\n",
    "        Union += IoU[1]\n",
    "        Acc_N += y.numel()\n",
    "    for X, y in val_iter:\n",
    "        X, y = X.to(device), y.to(device)\n",
    "        TestN += y.numel()\n",
    "        TestAcc += accuracy(model(X), y)\n",
    "        IoU = binnary_IoU(model(X), y)\n",
    "        TestIntersection += IoU[0]\n",
    "        TestUnion += IoU[1]\n",
    "    print(f'epoch {epoch + 1}, loss {(L/N):f}\\\n",
    "          , train accuracy  {(Acc/Acc_N):f}, train IoU  {(Intersection/Union):f}\\\n",
    "          , test accuracy {(TestAcc/TestN):f}, test IoU {(TestIntersection/TestUnion):f}')"
   ],
   "metadata": {
    "collapsed": false,
    "ExecuteTime": {
     "end_time": "2023-10-20T13:52:06.256985200Z",
     "start_time": "2023-10-20T12:31:31.576516800Z"
    }
   },
   "id": "9114212d707940b6"
  },
  {
   "cell_type": "code",
   "execution_count": 16,
   "outputs": [],
   "source": [
    "next_batch = next(iter(test_iter))\n",
    "X, y = next_batch"
   ],
   "metadata": {
    "collapsed": false,
    "ExecuteTime": {
     "end_time": "2023-10-20T14:59:59.449099500Z",
     "start_time": "2023-10-20T14:59:55.782237300Z"
    }
   },
   "id": "f5756ec9e79fe7ee"
  },
  {
   "cell_type": "code",
   "execution_count": 20,
   "outputs": [],
   "source": [
    "torch.save(model.to('cpu').state_dict(), 'modelo.pt')"
   ],
   "metadata": {
    "collapsed": false,
    "ExecuteTime": {
     "end_time": "2023-10-20T15:01:30.242461200Z",
     "start_time": "2023-10-20T15:01:30.163249200Z"
    }
   },
   "id": "a830d5fc1bd9acbd"
  },
  {
   "cell_type": "code",
   "execution_count": 17,
   "outputs": [],
   "source": [
    "j=6\n",
    "a=X[j].unsqueeze(0)\n",
    "model=model.to('cpu')\n",
    "pred = model(a).argmax(dim=1)"
   ],
   "metadata": {
    "collapsed": false,
    "ExecuteTime": {
     "end_time": "2023-10-20T14:59:59.686129800Z",
     "start_time": "2023-10-20T14:59:59.449099500Z"
    }
   },
   "id": "a9bcf334ca2233c4"
  },
  {
   "cell_type": "code",
   "execution_count": 18,
   "outputs": [
    {
     "data": {
      "text/plain": "<Figure size 640x480 with 1 Axes>",
      "image/png": "[encoded data removed]"
     },
     "metadata": {},
     "output_type": "display_data"
    }
   ],
   "source": [
    "plt.imshow(pred.permute(1, 2, 0).numpy())\n",
    "plt.axis('off')  # Opcional: desactiva los ejes\n",
    "plt.show()"
   ],
   "metadata": {
    "collapsed": false,
    "ExecuteTime": {
     "end_time": "2023-10-20T14:59:59.741964900Z",
     "start_time": "2023-10-20T14:59:59.686129800Z"
    }
   },
   "id": "f4e64e4d7afb1bb9"
  },
  {
   "cell_type": "code",
   "execution_count": 19,
   "outputs": [
    {
     "data": {
      "text/plain": "<Figure size 640x480 with 1 Axes>",
      "image/png": "[encoded data removed]"
     },
     "metadata": {},
     "output_type": "display_data"
    }
   ],
   "source": [
    "plt.imshow((y[j].unsqueeze(0).to('cpu')).permute(1, 2, 0).numpy())\n",
    "plt.axis('off')  # Opcional: desactiva los ejes\n",
    "plt.show()"
   ],
   "metadata": {
    "collapsed": false,
    "ExecuteTime": {
     "end_time": "2023-10-20T14:59:59.800641Z",
     "start_time": "2023-10-20T14:59:59.741964900Z"
    }
   },
   "id": "1031985cbf541dfd"
  },
  {
   "cell_type": "code",
   "execution_count": null,
   "outputs": [],
   "source": [],
   "metadata": {
    "collapsed": false
   },
   "id": "72dcb2535f39eccd"
  }
 ],
 "metadata": {
  "kernelspec": {
   "display_name": "Python 3",
   "language": "python",
   "name": "python3"
  },
  "language_info": {
   "codemirror_mode": {
    "name": "ipython",
    "version": 2
   },
   "file_extension": ".py",
   "mimetype": "text/x-python",
   "name": "python",
   "nbconvert_exporter": "python",
   "pygments_lexer": "ipython2",
   "version": "2.7.6"
  }
 },
 "nbformat": 4,
 "nbformat_minor": 5
}
